{
 "metadata": {
  "name": "",
  "signature": "sha256:a5146b953e6ce4107eb6016b9e4a4a34b2153b7ea3de0a799042c5e879c6ce01"
 },
 "nbformat": 3,
 "nbformat_minor": 0,
 "worksheets": [
  {
   "cells": [
    {
     "cell_type": "markdown",
     "metadata": {},
     "source": [
      "<img src=\"https://raw.githubusercontent.com/mar-one/ACM-Python-Tutorials-KAUST-2015/master/images/ACM_chapter_logo.png\" width=\"250px\" style=\"float: left;\">\n",
      "<img src=\"https://raw.githubusercontent.com/mar-one/ACM-Python-Tutorials-KAUST-2015/master/images/KAUST_logo.png\" width=\"250px\" style=\"float: right;\">\n",
      "\n",
      "<h1 align=\"center\">Introduction to NumPy & SciPy - the core numerical scientific packages</h1>\n",
      "<p> <br style=\"clear: both;\"/></p>\n",
      "<p> <br style=\"clear: both;\"/></p>\n",
      "<p> <br style=\"clear: both;\"/></p>"
     ]
    },
    {
     "cell_type": "markdown",
     "metadata": {},
     "source": [
      "<p style=\"color: #999;\">This tutorial is prepared by ACM Student Chapter of King Abdullah University of Science and Technology (KAUST). <br/>\n",
      "Material has been adapted from the following:</p>\n",
      "\n",
      "<p style=\"color: #999;\"> - David Ketcheson's [Introduction to NumPy and Matplotlib](http://nbviewer.ipython.org/github/ketch/AMCS252/blob/master/2_Introduction_to_Numpy%20and_Matplotlib.ipynb)</p>\n",
      "<p style=\"color: #999;\">- Software Carpentry's [Numerical analysis with NumPy](http://nbviewer.ipython.org/github/geocarpentry/2014-01-30-mit/blob/gh-pages/lessons/vignettes/Numerical%20analysis%20with%20NumPy.ipynb)</p>\n",
      "<p style=\"color: #999;\">- J.R. Johansson's [Numpy - multidimensional data arrays](http://nbviewer.ipython.org/github/jrjohansson/scientific-python-lectures/blob/master/Lecture-2-Numpy.ipynb) and [SciPy - Library of scientific algorithms for Python](http://nbviewer.ipython.org/github/jrjohansson/scientific-python-lectures/blob/master/Lecture-3-Scipy.ipynb#SciPy---Library-of-scientific-algorithms-for-Python)</p>\n",
      "<p style=\"color: #999;\">- Official [Tentative NumPy tutorial](http://www.scipy.org/Tentative_NumPy_Tutorial)</p>\n",
      "\n",
      "**Prerequisites:** Introduction to Python\n",
      "<p><br/></p>"
     ]
    },
    {
     "cell_type": "markdown",
     "metadata": {},
     "source": [
      "## NumPy"
     ]
    },
    {
     "cell_type": "markdown",
     "metadata": {},
     "source": [
      "Python includes a package for numerical computation called numpy, which is an essential tool for scientific computing. \n",
      "It is based on multidimensional arrays (vectors and matrices) and provides a large library of functions and operators that work efficiently on these objects.\n",
      "In this way, any numerical algorithm is expressed as operations on arrays and in many cases runs almost as quickly as the equivalent C code.\n",
      "\n",
      "Like MATLAB, `NumPy` relies on BLAS and LAPACK for efficient linear algebra computations.\n",
      "\n",
      "`NumPy` is used in:</br>\n",
      "Numerical Analysis, Linear algebra, Solution of differential equations, Statistical analysis and many more...\n"
     ]
    },
    {
     "cell_type": "markdown",
     "metadata": {},
     "source": [
      "### Why to use NumPy?\n",
      "\n",
      "Consider the following list and suppose we want to perform some simple algebraic operations:"
     ]
    },
    {
     "cell_type": "code",
     "collapsed": false,
     "input": [
      "price = [5.99, 10.25, 2.0, 40.99, 5.60, 63.49]"
     ],
     "language": "python",
     "metadata": {},
     "outputs": [],
     "prompt_number": 2
    },
    {
     "cell_type": "code",
     "collapsed": false,
     "input": [
      "price*2"
     ],
     "language": "python",
     "metadata": {},
     "outputs": [
      {
       "metadata": {},
       "output_type": "pyout",
       "prompt_number": 3,
       "text": [
        "[5.99, 10.25, 2.0, 40.99, 5.6, 63.49, 5.99, 10.25, 2.0, 40.99, 5.6, 63.49]"
       ]
      }
     ],
     "prompt_number": 3
    },
    {
     "cell_type": "code",
     "collapsed": false,
     "input": [
      "price+0.5"
     ],
     "language": "python",
     "metadata": {},
     "outputs": [
      {
       "ename": "TypeError",
       "evalue": "can only concatenate list (not \"float\") to list",
       "output_type": "pyerr",
       "traceback": [
        "\u001b[0;31m---------------------------------------------------------------------------\u001b[0m\n\u001b[0;31mTypeError\u001b[0m                                 Traceback (most recent call last)",
        "\u001b[0;32m<ipython-input-4-ba6ebb983a2c>\u001b[0m in \u001b[0;36m<module>\u001b[0;34m()\u001b[0m\n\u001b[0;32m----> 1\u001b[0;31m \u001b[0mprice\u001b[0m\u001b[0;34m+\u001b[0m\u001b[0;36m0.5\u001b[0m\u001b[0;34m\u001b[0m\u001b[0m\n\u001b[0m",
        "\u001b[0;31mTypeError\u001b[0m: can only concatenate list (not \"float\") to list"
       ]
      }
     ],
     "prompt_number": 4
    },
    {
     "cell_type": "markdown",
     "metadata": {},
     "source": [
      "Clearly, if we wanted to double the value of each element and add half, this cannot be done easily. Instead, we would have to use a loop:"
     ]
    },
    {
     "cell_type": "code",
     "collapsed": false,
     "input": [
      "for i in range(len(price)):\n",
      "    price[i] = price[i]*2\n",
      "    price[i] = price[i]+0.5\n",
      "print price"
     ],
     "language": "python",
     "metadata": {},
     "outputs": [
      {
       "output_type": "stream",
       "stream": "stdout",
       "text": [
        "[12.48, 21.0, 4.5, 82.48, 11.7, 127.48]\n"
       ]
      }
     ],
     "prompt_number": 5
    },
    {
     "cell_type": "markdown",
     "metadata": {},
     "source": [
      "But, there should be a more convinient way..."
     ]
    },
    {
     "cell_type": "markdown",
     "metadata": {},
     "source": [
      "### Getting started\n",
      "\n",
      "We start, by importing the NumPy module. Import statements like this are the typical way of getting access to functions in Python. The most general way to import a module is the following:"
     ]
    },
    {
     "cell_type": "code",
     "collapsed": false,
     "input": [
      "from numpy import *"
     ],
     "language": "python",
     "metadata": {},
     "outputs": [],
     "prompt_number": 6
    },
    {
     "cell_type": "markdown",
     "metadata": {},
     "source": [
      "The above imports all functions included in the package and can call them simply by their name."
     ]
    },
    {
     "cell_type": "code",
     "collapsed": false,
     "input": [
      "sin(3*pi/2)*exp(2)"
     ],
     "language": "python",
     "metadata": {},
     "outputs": [
      {
       "metadata": {},
       "output_type": "pyout",
       "prompt_number": 7,
       "text": [
        "-7.3890560989306504"
       ]
      }
     ],
     "prompt_number": 7
    },
    {
     "cell_type": "markdown",
     "metadata": {},
     "source": [
      "Instead we can import the numpy module and tell Python that we want to refer to numpy by the short abbreviation *np*. This is recommended since we keep track of which module the functions belong to."
     ]
    },
    {
     "cell_type": "code",
     "collapsed": false,
     "input": [
      "import numpy as np"
     ],
     "language": "python",
     "metadata": {},
     "outputs": [],
     "prompt_number": 8
    },
    {
     "cell_type": "markdown",
     "metadata": {},
     "source": [
      "### Arrays\n",
      "\n",
      "NumPy's main object is the homogeneous multidimensional array. \n",
      "It is a table of elements - all of the same type - indexed by a tuple of positive integers.\n",
      "\n",
      "NumPy's array class is called *ndarray* and the package includes basic utility functions for creating and manipulate arrays in a similar fashion to MATLAB.\n",
      "For example we can create a one-dimensional array by:"
     ]
    },
    {
     "cell_type": "code",
     "collapsed": false,
     "input": [
      "price = np.array([5.99, 10.25, 2.0, 40.99, 5.60, 63.49])\n",
      "print type(price)\n",
      "price = price*2+0.5\n",
      "print price"
     ],
     "language": "python",
     "metadata": {},
     "outputs": [
      {
       "output_type": "stream",
       "stream": "stdout",
       "text": [
        "<type 'numpy.ndarray'>\n",
        "[  12.48   21.      4.5    82.48   11.7   127.48]\n"
       ]
      }
     ],
     "prompt_number": 9
    },
    {
     "cell_type": "markdown",
     "metadata": {},
     "source": [
      "There are other ways to create one-dimensional arrays:"
     ]
    },
    {
     "cell_type": "code",
     "collapsed": false,
     "input": [
      "x = np.linspace(-1,1,5)\n",
      "print x"
     ],
     "language": "python",
     "metadata": {},
     "outputs": [
      {
       "output_type": "stream",
       "stream": "stdout",
       "text": [
        "[-1.  -0.5  0.   0.5  1. ]\n"
       ]
      }
     ],
     "prompt_number": 10
    },
    {
     "cell_type": "code",
     "collapsed": false,
     "input": [
      "y = np.arange(0,1,0.2)\n",
      "print y"
     ],
     "language": "python",
     "metadata": {},
     "outputs": [
      {
       "output_type": "stream",
       "stream": "stdout",
       "text": [
        "[ 0.   0.2  0.4  0.6  0.8]\n"
       ]
      }
     ],
     "prompt_number": 11
    },
    {
     "cell_type": "markdown",
     "metadata": {},
     "source": [
      "---\n",
      "### Exercise 7\n",
      "\n",
      "Change the inputs of the *linspace* and *arange* function until you understand exactly what they do. Using both ways, create a vector of starting from -1.5 to 4.5 inclusive with a step of 0.5. "
     ]
    },
    {
     "cell_type": "code",
     "collapsed": false,
     "input": [
      "# type your solution here"
     ],
     "language": "python",
     "metadata": {},
     "outputs": [],
     "prompt_number": 12
    },
    {
     "cell_type": "markdown",
     "metadata": {},
     "source": [
      "##### Solution"
     ]
    },
    {
     "cell_type": "code",
     "collapsed": false,
     "input": [
      "#%load solutions/1D_array.py"
     ],
     "language": "python",
     "metadata": {},
     "outputs": [],
     "prompt_number": 13
    },
    {
     "cell_type": "markdown",
     "metadata": {},
     "source": [
      "We can always find out what a function does by typing its name, followed by a question mark:"
     ]
    },
    {
     "cell_type": "code",
     "collapsed": false,
     "input": [
      "np.arange?"
     ],
     "language": "python",
     "metadata": {},
     "outputs": [],
     "prompt_number": 14
    },
    {
     "cell_type": "markdown",
     "metadata": {},
     "source": [
      "Resize the help window (to get it out of your way) by dragging the divider. Double click on the divider to close it."
     ]
    },
    {
     "cell_type": "markdown",
     "metadata": {},
     "source": [
      "### Multidimensional arrays\n",
      "\n",
      "We can create multidimensional arrays, like the following:"
     ]
    },
    {
     "cell_type": "code",
     "collapsed": false,
     "input": [
      "A = np.array([[1,2.4,-13],[4.1,5,0],[7.2,8,9]])\n",
      "print \"A = \", A\n",
      "print type(A)\n",
      "print A.shape\n",
      "print A.dtype"
     ],
     "language": "python",
     "metadata": {},
     "outputs": [
      {
       "output_type": "stream",
       "stream": "stdout",
       "text": [
        "A =  [[  1.    2.4 -13. ]\n",
        " [  4.1   5.    0. ]\n",
        " [  7.2   8.    9. ]]\n",
        "<type 'numpy.ndarray'>\n",
        "(3, 3)\n",
        "float64\n"
       ]
      }
     ],
     "prompt_number": 15
    },
    {
     "cell_type": "markdown",
     "metadata": {},
     "source": [
      "To see all different attributes of the array object type its name followed by a fullstop and press *tap*. Note that some attributes are basically functions and require parentheses (with or without arguments), e.g. *conjugate* and others don't, e.g. *size*:"
     ]
    },
    {
     "cell_type": "code",
     "collapsed": false,
     "input": [
      "A = np.array([[1,2+4j,3j],[4j,5,6-5j],[7j,8,9+3j]]) # dtype=complex\n",
      "print A.conjugate()\n",
      "print A.size"
     ],
     "language": "python",
     "metadata": {},
     "outputs": [
      {
       "output_type": "stream",
       "stream": "stdout",
       "text": [
        "[[ 1.-0.j  2.-4.j  0.-3.j]\n",
        " [ 0.-4.j  5.-0.j  6.+5.j]\n",
        " [ 0.-7.j  8.-0.j  9.-3.j]]\n",
        "9\n"
       ]
      }
     ],
     "prompt_number": 16
    },
    {
     "cell_type": "markdown",
     "metadata": {},
     "source": [
      "We can also define the shape of the array:"
     ]
    },
    {
     "cell_type": "code",
     "collapsed": false,
     "input": [
      "np.random.uniform(0,1,size=(5,5)) # 5 x 5 matrix with elements from a uniform distribution"
     ],
     "language": "python",
     "metadata": {},
     "outputs": [
      {
       "metadata": {},
       "output_type": "pyout",
       "prompt_number": 17,
       "text": [
        "array([[ 0.18894904,  0.4016313 ,  0.30167486,  0.04452608,  0.29880108],\n",
        "       [ 0.85862765,  0.18898635,  0.46421297,  0.6303044 ,  0.56185042],\n",
        "       [ 0.78056999,  0.82705839,  0.63247392,  0.07986216,  0.64999473],\n",
        "       [ 0.07852346,  0.27204531,  0.85521149,  0.94891731,  0.7810846 ],\n",
        "       [ 0.47172365,  0.57284027,  0.57618836,  0.30150177,  0.54945194]])"
       ]
      }
     ],
     "prompt_number": 17
    },
    {
     "cell_type": "markdown",
     "metadata": {},
     "source": [
      "#### Special arrays\n",
      "\n",
      "The function *zeros* creates an array full of zeros, the function *ones* creates an array full of ones and *eye* an identity array. Function *diag* is used for a diagonal array with specified diagonal elements. A matrix with random entries is generated by the *random* function."
     ]
    },
    {
     "cell_type": "code",
     "collapsed": false,
     "input": [
      "print np.zeros((3,4))\n",
      "print np.ones((2,3))\n",
      "print np.eye(3)"
     ],
     "language": "python",
     "metadata": {},
     "outputs": [
      {
       "output_type": "stream",
       "stream": "stdout",
       "text": [
        "[[ 0.  0.  0.  0.]\n",
        " [ 0.  0.  0.  0.]\n",
        " [ 0.  0.  0.  0.]]\n",
        "[[ 1.  1.  1.]\n",
        " [ 1.  1.  1.]]\n",
        "[[ 1.  0.  0.]\n",
        " [ 0.  1.  0.]\n",
        " [ 0.  0.  1.]]\n"
       ]
      }
     ],
     "prompt_number": 18
    },
    {
     "cell_type": "code",
     "collapsed": false,
     "input": [
      "print np.diag(x,0)\n",
      "print np.diag([2,3,4])\n",
      "print np.random.random((2,2))"
     ],
     "language": "python",
     "metadata": {},
     "outputs": [
      {
       "output_type": "stream",
       "stream": "stdout",
       "text": [
        "[[-1.   0.   0.   0.   0. ]\n",
        " [ 0.  -0.5  0.   0.   0. ]\n",
        " [ 0.   0.   0.   0.   0. ]\n",
        " [ 0.   0.   0.   0.5  0. ]\n",
        " [ 0.   0.   0.   0.   1. ]]\n",
        "[[2 0 0]\n",
        " [0 3 0]\n",
        " [0 0 4]]\n",
        "[[ 0.89073408  0.92386659]\n",
        " [ 0.43499535  0.1673178 ]]\n"
       ]
      }
     ],
     "prompt_number": 19
    },
    {
     "cell_type": "markdown",
     "metadata": {},
     "source": [
      "Notice that there are two pairs of parentheses used when calling the *zeros*, *ones* and *random* command, because we are passing as argument (e.g. the Python tuple *(3,4)*), which is the shape of the resulting array."
     ]
    },
    {
     "cell_type": "markdown",
     "metadata": {},
     "source": [
      "### Reshape\n",
      "\n",
      "Manipulation of arrays can be done in many ways:  "
     ]
    },
    {
     "cell_type": "code",
     "collapsed": false,
     "input": [
      "A = np.arange(1,10)\n",
      "print \"A = \", A\n",
      "A = A.reshape((3,3))\n",
      "print A"
     ],
     "language": "python",
     "metadata": {},
     "outputs": [
      {
       "output_type": "stream",
       "stream": "stdout",
       "text": [
        "A =  [1 2 3 4 5 6 7 8 9]\n",
        "[[1 2 3]\n",
        " [4 5 6]\n",
        " [7 8 9]]\n"
       ]
      }
     ],
     "prompt_number": 20
    },
    {
     "cell_type": "code",
     "collapsed": false,
     "input": [
      "B = arange(15).reshape((3,5))\n",
      "print \"B = \", B\n",
      "print B.ravel() # flatten the array"
     ],
     "language": "python",
     "metadata": {},
     "outputs": [
      {
       "output_type": "stream",
       "stream": "stdout",
       "text": [
        "B =  [[ 0  1  2  3  4]\n",
        " [ 5  6  7  8  9]\n",
        " [10 11 12 13 14]]\n",
        "[ 0  1  2  3  4  5  6  7  8  9 10 11 12 13 14]\n"
       ]
      }
     ],
     "prompt_number": 21
    },
    {
     "cell_type": "markdown",
     "metadata": {},
     "source": [
      "### Indexing\n",
      "\n",
      "We can slice numpy arrays just as other programming languages, but the indexing is a little different. See the examples below:"
     ]
    },
    {
     "cell_type": "code",
     "collapsed": false,
     "input": [
      "print A\n",
      "print A[0,0]\n",
      "print A[1:3,0:2]\n",
      "print A[1:3,[0,1]]"
     ],
     "language": "python",
     "metadata": {},
     "outputs": [
      {
       "output_type": "stream",
       "stream": "stdout",
       "text": [
        "[[1 2 3]\n",
        " [4 5 6]\n",
        " [7 8 9]]\n",
        "1\n",
        "[[4 5]\n",
        " [7 8]]\n",
        "[[4 5]\n",
        " [7 8]]\n"
       ]
      }
     ],
     "prompt_number": 22
    },
    {
     "cell_type": "markdown",
     "metadata": {},
     "source": [
      "Note that the fundamental difference from MATLAB is that the indexing starts from zero and is exclusive of the second index. Hence, in the above example 1:3 refers to the second and third row and 0:2 to the first and second column."
     ]
    },
    {
     "cell_type": "markdown",
     "metadata": {},
     "source": [
      "We can index in some clever ways too:  "
     ]
    },
    {
     "cell_type": "code",
     "collapsed": false,
     "input": [
      "print A"
     ],
     "language": "python",
     "metadata": {},
     "outputs": [
      {
       "output_type": "stream",
       "stream": "stdout",
       "text": [
        "[[1 2 3]\n",
        " [4 5 6]\n",
        " [7 8 9]]\n"
       ]
      }
     ],
     "prompt_number": 23
    },
    {
     "cell_type": "code",
     "collapsed": false,
     "input": [
      "print A[0,:] # row selection\n",
      "print A[:,0] # column selection"
     ],
     "language": "python",
     "metadata": {},
     "outputs": [
      {
       "output_type": "stream",
       "stream": "stdout",
       "text": [
        "[1 2 3]\n",
        "[1 4 7]\n"
       ]
      }
     ],
     "prompt_number": 24
    },
    {
     "cell_type": "code",
     "collapsed": false,
     "input": [
      "print A[:,1:] # all rows, from 2nd column until the end\n",
      "print A[-1,:] # last row, all columns"
     ],
     "language": "python",
     "metadata": {},
     "outputs": [
      {
       "output_type": "stream",
       "stream": "stdout",
       "text": [
        "[[2 3]\n",
        " [5 6]\n",
        " [8 9]]\n",
        "[7 8 9]\n"
       ]
      }
     ],
     "prompt_number": 25
    },
    {
     "cell_type": "markdown",
     "metadata": {},
     "source": [
      "We can change array's elements:"
     ]
    },
    {
     "cell_type": "code",
     "collapsed": false,
     "input": [
      "A[:,2] = [.3,.4,9.12]\n",
      "print A\n",
      "print A.dtype"
     ],
     "language": "python",
     "metadata": {},
     "outputs": [
      {
       "output_type": "stream",
       "stream": "stdout",
       "text": [
        "[[1 2 0]\n",
        " [4 5 0]\n",
        " [7 8 9]]\n",
        "int64\n"
       ]
      }
     ],
     "prompt_number": 26
    },
    {
     "cell_type": "markdown",
     "metadata": {},
     "source": [
      "Notice that the elements of A remain integers. That is because A has type *int*. The following does the desired change:"
     ]
    },
    {
     "cell_type": "code",
     "collapsed": false,
     "input": [
      "A = A.astype(float)\n",
      "A[:,2] = [.3,.4,9.12]\n",
      "print A"
     ],
     "language": "python",
     "metadata": {},
     "outputs": [
      {
       "output_type": "stream",
       "stream": "stdout",
       "text": [
        "[[ 1.    2.    0.3 ]\n",
        " [ 4.    5.    0.4 ]\n",
        " [ 7.    8.    9.12]]\n"
       ]
      }
     ],
     "prompt_number": 27
    },
    {
     "cell_type": "markdown",
     "metadata": {},
     "source": [
      "There is an easy way to reverse a vector:"
     ]
    },
    {
     "cell_type": "code",
     "collapsed": false,
     "input": [
      "a = arange(10)\n",
      "print a\n",
      "print a[: :-1] # reverse a"
     ],
     "language": "python",
     "metadata": {},
     "outputs": [
      {
       "output_type": "stream",
       "stream": "stdout",
       "text": [
        "[0 1 2 3 4 5 6 7 8 9]\n",
        "[9 8 7 6 5 4 3 2 1 0]\n"
       ]
      }
     ],
     "prompt_number": 28
    },
    {
     "cell_type": "markdown",
     "metadata": {},
     "source": [
      "We can also index an array using boolean arrays:"
     ]
    },
    {
     "cell_type": "code",
     "collapsed": false,
     "input": [
      "b = a>5\n",
      "print b\n",
      "a[b] = 0  # All elements of 'a' higher than 5 become 0\n",
      "print a"
     ],
     "language": "python",
     "metadata": {},
     "outputs": [
      {
       "output_type": "stream",
       "stream": "stdout",
       "text": [
        "[False False False False False False  True  True  True  True]\n",
        "[0 1 2 3 4 5 0 0 0 0]\n"
       ]
      }
     ],
     "prompt_number": 29
    },
    {
     "cell_type": "markdown",
     "metadata": {},
     "source": [
      "### Array and matrix multiplication"
     ]
    },
    {
     "cell_type": "code",
     "collapsed": false,
     "input": [
      "print a**2\n",
      "print 10*sin(np.pi/a[1:5]) # avoiding division with zero!\n",
      "print A*A"
     ],
     "language": "python",
     "metadata": {},
     "outputs": [
      {
       "output_type": "stream",
       "stream": "stdout",
       "text": [
        "[ 0  1  4  9 16 25  0  0  0  0]\n",
        "[  1.22464680e-15   1.00000000e+01   8.66025404e+00   7.07106781e+00]\n",
        "[[  1.       4.       0.09  ]\n",
        " [ 16.      25.       0.16  ]\n",
        " [ 49.      64.      83.1744]]\n"
       ]
      }
     ],
     "prompt_number": 30
    },
    {
     "cell_type": "markdown",
     "metadata": {},
     "source": [
      "By default, NumPy uses component-wise multiplication. For a matrix-matrix (or matrix-vector) multiplication, we use the *dot* function:  "
     ]
    },
    {
     "cell_type": "code",
     "collapsed": false,
     "input": [
      "np.dot(A,A)"
     ],
     "language": "python",
     "metadata": {},
     "outputs": [
      {
       "metadata": {},
       "output_type": "pyout",
       "prompt_number": 31,
       "text": [
        "array([[  11.1   ,   14.4   ,    3.836 ],\n",
        "       [  26.8   ,   36.2   ,    6.848 ],\n",
        "       [ 102.84  ,  126.96  ,   88.4744]])"
       ]
      }
     ],
     "prompt_number": 31
    },
    {
     "cell_type": "markdown",
     "metadata": {},
     "source": [
      "### Other basic operations"
     ]
    },
    {
     "cell_type": "code",
     "collapsed": false,
     "input": [
      "A = array(A,dtype='int')\n",
      "print A"
     ],
     "language": "python",
     "metadata": {},
     "outputs": [
      {
       "output_type": "stream",
       "stream": "stdout",
       "text": [
        "[[1 2 0]\n",
        " [4 5 0]\n",
        " [7 8 9]]\n"
       ]
      }
     ],
     "prompt_number": 32
    },
    {
     "cell_type": "code",
     "collapsed": false,
     "input": [
      "print A.sum() # sum of all elements\n",
      "print A.min()\n",
      "print A.max()"
     ],
     "language": "python",
     "metadata": {},
     "outputs": [
      {
       "output_type": "stream",
       "stream": "stdout",
       "text": [
        "36\n",
        "0\n",
        "9\n"
       ]
      }
     ],
     "prompt_number": 33
    },
    {
     "cell_type": "code",
     "collapsed": false,
     "input": [
      "print A.sum(axis=0)     # sum of each column\n",
      "print A.min(axis=1)     # min of each row\n",
      "print A.cumsum(axis=1)  # cumulative sum along each row"
     ],
     "language": "python",
     "metadata": {},
     "outputs": [
      {
       "output_type": "stream",
       "stream": "stdout",
       "text": [
        "[12 15  9]\n",
        "[0 0 7]\n",
        "[[ 1  3  3]\n",
        " [ 4  9  9]\n",
        " [ 7 15 24]]\n"
       ]
      }
     ],
     "prompt_number": 34
    },
    {
     "cell_type": "markdown",
     "metadata": {},
     "source": [
      "In Python *axis* refers to the dimensions of arrays; *axis=0* refers to the colums and *axis=1* to the rows."
     ]
    },
    {
     "cell_type": "markdown",
     "metadata": {},
     "source": [
      "### Stacking and splitting\n",
      "\n",
      "The *vstack* and *hstack* commands can be used to stack arrays and *hsplit* to split."
     ]
    },
    {
     "cell_type": "code",
     "collapsed": false,
     "input": [
      "A = floor(10*random.random((2,2)))\n",
      "print A\n",
      "B = floor(10*random.random((2,2)))\n",
      "print B"
     ],
     "language": "python",
     "metadata": {},
     "outputs": [
      {
       "output_type": "stream",
       "stream": "stdout",
       "text": [
        "[[ 4.  0.]\n",
        " [ 6.  7.]]\n",
        "[[ 1.  2.]\n",
        " [ 5.  3.]]\n"
       ]
      }
     ],
     "prompt_number": 35
    },
    {
     "cell_type": "code",
     "collapsed": false,
     "input": [
      "print np.vstack((A,B))\n",
      "print np.hstack((B,A))"
     ],
     "language": "python",
     "metadata": {},
     "outputs": [
      {
       "output_type": "stream",
       "stream": "stdout",
       "text": [
        "[[ 4.  0.]\n",
        " [ 6.  7.]\n",
        " [ 1.  2.]\n",
        " [ 5.  3.]]\n",
        "[[ 1.  2.  4.  0.]\n",
        " [ 5.  3.  6.  7.]]\n"
       ]
      }
     ],
     "prompt_number": 36
    },
    {
     "cell_type": "code",
     "collapsed": false,
     "input": [
      "A = floor(10*random.random((2,12)))\n",
      "print A"
     ],
     "language": "python",
     "metadata": {},
     "outputs": [
      {
       "output_type": "stream",
       "stream": "stdout",
       "text": [
        "[[ 6.  7.  5.  2.  3.  6.  2.  4.  7.  5.  2.  9.]\n",
        " [ 8.  4.  4.  5.  7.  0.  5.  3.  3.  3.  6.  3.]]\n"
       ]
      }
     ],
     "prompt_number": 37
    },
    {
     "cell_type": "code",
     "collapsed": false,
     "input": [
      "print np.hsplit(A,3)       # Split A into 3 arrays\n",
      "print np.hsplit(A,(3,4))   # Split A after the third and the fourth column"
     ],
     "language": "python",
     "metadata": {},
     "outputs": [
      {
       "output_type": "stream",
       "stream": "stdout",
       "text": [
        "[array([[ 6.,  7.,  5.,  2.],\n",
        "       [ 8.,  4.,  4.,  5.]]), array([[ 3.,  6.,  2.,  4.],\n",
        "       [ 7.,  0.,  5.,  3.]]), array([[ 7.,  5.,  2.,  9.],\n",
        "       [ 3.,  3.,  6.,  3.]])]\n",
        "[array([[ 6.,  7.,  5.],\n",
        "       [ 8.,  4.,  4.]]), array([[ 2.],\n",
        "       [ 5.]]), array([[ 3.,  6.,  2.,  4.,  7.,  5.,  2.,  9.],\n",
        "       [ 7.,  0.,  5.,  3.,  3.,  3.,  6.,  3.]])]\n"
       ]
      }
     ],
     "prompt_number": 38
    },
    {
     "cell_type": "markdown",
     "metadata": {},
     "source": [
      "---\n",
      "### Exercise 8\n",
      "\n",
      "1. Create a vector with values ranging from 10 to 99\n",
      "2. Find indices of non-zero elements from [1,2,0,0,4,0]. Hint: use <em>np.nonzero</em>\n",
      "3. Declare a 8x8 matrix and fill it with a checkerboard pattern of zeros and ones, without a loop.\n",
      "4. Create a 5x3 matrix whose $(i,j)$ entry is equal to $i\\times j^2$ without using a loop. Hint: use <em>np.fromfunction</em>.\n",
      "5. Create a 4x4 array with numbers from a normal distribution with mean = 3 and standard deviation = 1.5. Hint: use <em>np.random.normal</em>. Sum the values of each row and store the result in a new array."
     ]
    },
    {
     "cell_type": "code",
     "collapsed": false,
     "input": [
      "# type your solution here"
     ],
     "language": "python",
     "metadata": {},
     "outputs": [],
     "prompt_number": 39
    },
    {
     "cell_type": "markdown",
     "metadata": {},
     "source": [
      "##### Solution"
     ]
    },
    {
     "cell_type": "code",
     "collapsed": false,
     "input": [
      "#%load solutions/array_operations.py"
     ],
     "language": "python",
     "metadata": {},
     "outputs": [],
     "prompt_number": 40
    },
    {
     "cell_type": "markdown",
     "metadata": {},
     "source": [
      "Now let's work with some real data. Ensure that the <em>stockholm_temp.txt</em> in the same directory with this notebook. \n",
      "This file contains the [daily average temperatures](http://bolin.su.se/data/stockholm/homogenized_daily_mean_temperatures.php)\n",
      "according to observations of Stockholm for the years 1756 - 2012.\n",
      "The following code checks if the file exists, opens it, prints the first lines and stores the data in an array."
     ]
    },
    {
     "cell_type": "code",
     "collapsed": false,
     "input": [
      "import os\n",
      "filename = 'data/stockholm_temp.txt'\n",
      "if os.path.exists(filename):\n",
      "    # look at the first 3 lines\n",
      "    with open(filename,'r') as f:\n",
      "        print '\\n'.join(f.readlines()[:3])\n",
      "    # alternative look at the first head lines\n",
      "    !head 'data/stockholm_temp.txt'\n",
      "    \n",
      "    data = np.loadtxt(filename) # alternative we can use getfromtxt command\n",
      "    \n",
      "else:\n",
      "    print 'Weather data does not exist, please download \"stockholm_temp.txt\" from Github.'"
     ],
     "language": "python",
     "metadata": {},
     "outputs": [
      {
       "output_type": "stream",
       "stream": "stdout",
       "text": [
        "1.756000000000000000e+03 1.000000000000000000e+00 1.000000000000000000e+00 -8.699999999999999289e+00\n",
        "\n",
        "1.756000000000000000e+03 1.000000000000000000e+00 2.000000000000000000e+00 -9.199999999999999289e+00\n",
        "\n",
        "1.756000000000000000e+03 1.000000000000000000e+00 3.000000000000000000e+00 -8.599999999999999645e+00\n",
        "\n",
        "1.756000000000000000e+03 1.000000000000000000e+00 1.000000000000000000e+00 -8.699999999999999289e+00\r\n",
        "1.756000000000000000e+03 1.000000000000000000e+00 2.000000000000000000e+00 -9.199999999999999289e+00\r\n",
        "1.756000000000000000e+03 1.000000000000000000e+00 3.000000000000000000e+00 -8.599999999999999645e+00\r\n",
        "1.756000000000000000e+03 1.000000000000000000e+00 4.000000000000000000e+00 -7.700000000000000178e+00\r\n",
        "1.756000000000000000e+03 1.000000000000000000e+00 5.000000000000000000e+00 -7.200000000000000178e+00\r\n",
        "1.756000000000000000e+03 1.000000000000000000e+00 6.000000000000000000e+00 -1.600000000000000089e+00\r\n",
        "1.756000000000000000e+03 1.000000000000000000e+00 7.000000000000000000e+00 6.999999999999999556e-01\r\n",
        "1.756000000000000000e+03 1.000000000000000000e+00 8.000000000000000000e+00 1.300000000000000044e+00\r\n",
        "1.756000000000000000e+03 1.000000000000000000e+00 9.000000000000000000e+00 2.399999999999999911e+00\r\n",
        "1.756000000000000000e+03 1.000000000000000000e+00 1.000000000000000000e+01 8.000000000000000444e-01\r\n"
       ]
      }
     ],
     "prompt_number": 41
    },
    {
     "cell_type": "markdown",
     "metadata": {},
     "source": [
      "Since the data are in the form\n",
      "*Year\n",
      "- Month\n",
      "- Day\n",
      "- Temperature*\n",
      "we would like to express them in a better way. We define a `dtype`, that is the type for each column: int, int, int, float:"
     ]
    },
    {
     "cell_type": "code",
     "collapsed": false,
     "input": [
      "dt = np.dtype([('Year', 'int16'), ('Month', 'int8'), ('Day', 'int8'), ('Temp', 'float64')])\n",
      "data = np.loadtxt(filename,dtype=dt)\n",
      "data[:10] # first 10 entries of our data"
     ],
     "language": "python",
     "metadata": {},
     "outputs": [
      {
       "metadata": {},
       "output_type": "pyout",
       "prompt_number": 42,
       "text": [
        "array([(1756, 1, 1, -8.7), (1756, 1, 2, -9.2), (1756, 1, 3, -8.6),\n",
        "       (1756, 1, 4, -7.7), (1756, 1, 5, -7.2), (1756, 1, 6, -1.6),\n",
        "       (1756, 1, 7, 0.7), (1756, 1, 8, 1.3), (1756, 1, 9, 2.4),\n",
        "       (1756, 1, 10, 0.8)], \n",
        "      dtype=[('Year', '<i2'), ('Month', 'i1'), ('Day', 'i1'), ('Temp', '<f8')])"
       ]
      }
     ],
     "prompt_number": 42
    },
    {
     "cell_type": "markdown",
     "metadata": {},
     "source": [
      "We can now look for the example only on the temperatures:"
     ]
    },
    {
     "cell_type": "code",
     "collapsed": false,
     "input": [
      "data['Temp']"
     ],
     "language": "python",
     "metadata": {},
     "outputs": [
      {
       "metadata": {},
       "output_type": "pyout",
       "prompt_number": 43,
       "text": [
        "array([-8.7, -9.2, -8.6, ...,  0.2,  2.6,  2.2])"
       ]
      }
     ],
     "prompt_number": 43
    },
    {
     "cell_type": "markdown",
     "metadata": {},
     "source": [
      "or find all leap years:"
     ]
    },
    {
     "cell_type": "code",
     "collapsed": false,
     "input": [
      "years = np.unique(data['Year']) # making an array with each year appearing only once\n",
      "leap_years = np.zeros((1,),dtype='int16') # initializing array for leap years\n",
      "for i in range(len(years)):\n",
      "    if np.fmod(years[i],4)==0 and ((np.fmod(years[i],100)==0 and np.fmod(years[i],400)==0) or np.fmod(years[i],100)!=0):\n",
      "        leap_years = np.append(leap_years,years[i]) # adding a leap year\n",
      "leap_years = leap_years[1:] # removing dummy first value\n",
      "print leap_years"
     ],
     "language": "python",
     "metadata": {},
     "outputs": [
      {
       "output_type": "stream",
       "stream": "stdout",
       "text": [
        "[1756 1760 1764 1768 1772 1776 1780 1784 1788 1792 1796 1804 1808 1812 1816\n",
        " 1820 1824 1828 1832 1836 1840 1844 1848 1852 1856 1860 1864 1868 1872 1876\n",
        " 1880 1884 1888 1892 1896 1904 1908 1912 1916 1920 1924 1928 1932 1936 1940\n",
        " 1944 1948 1952 1956 1960 1964 1968 1972 1976 1980 1984 1988 1992 1996 2000\n",
        " 2004 2008 2012]\n"
       ]
      }
     ],
     "prompt_number": 44
    },
    {
     "cell_type": "markdown",
     "metadata": {},
     "source": [
      "---\n",
      "### Exercise 9\n",
      "\n",
      "Make an array with the temperatures of the 5th day of every month."
     ]
    },
    {
     "cell_type": "code",
     "collapsed": false,
     "input": [
      "# type your solution here"
     ],
     "language": "python",
     "metadata": {},
     "outputs": [],
     "prompt_number": 45
    },
    {
     "cell_type": "markdown",
     "metadata": {},
     "source": [
      "##### Solution"
     ]
    },
    {
     "cell_type": "code",
     "collapsed": false,
     "input": [
      "#%load solutions/temperatures.py"
     ],
     "language": "python",
     "metadata": {},
     "outputs": [],
     "prompt_number": 46
    },
    {
     "cell_type": "markdown",
     "metadata": {},
     "source": [
      "### Linear algebra\n",
      "\n",
      "Handling *ndarrays* is really powerful. Of the many things one can do with NumPy's arrays is linear algebra:  "
     ]
    },
    {
     "cell_type": "code",
     "collapsed": false,
     "input": [
      "x = np.random.random(10)\n",
      "print x\n",
      "np.linalg.norm(x,np.inf) # maximum norm of a vector"
     ],
     "language": "python",
     "metadata": {},
     "outputs": [
      {
       "output_type": "stream",
       "stream": "stdout",
       "text": [
        "[ 0.05834554  0.05282837  0.39608145  0.37972821  0.59102374  0.38928025\n",
        "  0.00254778  0.4471012   0.22718756  0.32243128]\n"
       ]
      },
      {
       "metadata": {},
       "output_type": "pyout",
       "prompt_number": 47,
       "text": [
        "0.59102373985998502"
       ]
      }
     ],
     "prompt_number": 47
    },
    {
     "cell_type": "markdown",
     "metadata": {},
     "source": [
      "We can use this module to solve a linear system of equations $Ax=b$:"
     ]
    },
    {
     "cell_type": "code",
     "collapsed": false,
     "input": [
      "A = np.array([[0,2],[8,0]])\n",
      "b = np.array([1,2])\n",
      "print A\n",
      "print b"
     ],
     "language": "python",
     "metadata": {},
     "outputs": [
      {
       "output_type": "stream",
       "stream": "stdout",
       "text": [
        "[[0 2]\n",
        " [8 0]]\n",
        "[1 2]\n"
       ]
      }
     ],
     "prompt_number": 48
    },
    {
     "cell_type": "code",
     "collapsed": false,
     "input": [
      "x = np.linalg.solve(A,b)\n",
      "print x"
     ],
     "language": "python",
     "metadata": {},
     "outputs": [
      {
       "output_type": "stream",
       "stream": "stdout",
       "text": [
        "[ 0.25  0.5 ]\n"
       ]
      }
     ],
     "prompt_number": 49
    },
    {
     "cell_type": "markdown",
     "metadata": {},
     "source": [
      "We can also solve eigenvalue problems:"
     ]
    },
    {
     "cell_type": "code",
     "collapsed": false,
     "input": [
      "lamda,V = np.linalg.eig(A)\n",
      "print lamda\n",
      "print V"
     ],
     "language": "python",
     "metadata": {},
     "outputs": [
      {
       "output_type": "stream",
       "stream": "stdout",
       "text": [
        "[ 4. -4.]\n",
        "[[ 0.4472136  -0.4472136 ]\n",
        " [ 0.89442719  0.89442719]]\n"
       ]
      }
     ],
     "prompt_number": 50
    },
    {
     "cell_type": "markdown",
     "metadata": {},
     "source": [
      "Notice we have put two variables on the left of the equals sign, to assign the outputs of *eig()* to two different variables. Here *lamda* are the eigenvalues and the columns of *V* are the eigenvectors."
     ]
    },
    {
     "cell_type": "markdown",
     "metadata": {},
     "source": [
      "---\n",
      "### Exercise 10\n",
      "\n",
      "Create a diagonal matrix using the *lamda* variable and then multiply from the left with V and from the right with the inverse of V (use *np.linalg.inv()*). What do you find?"
     ]
    },
    {
     "cell_type": "code",
     "collapsed": false,
     "input": [
      "# type your solution here"
     ],
     "language": "python",
     "metadata": {},
     "outputs": [],
     "prompt_number": 51
    },
    {
     "cell_type": "markdown",
     "metadata": {},
     "source": [
      "##### Solution"
     ]
    },
    {
     "cell_type": "code",
     "collapsed": false,
     "input": [
      "#%load solutions/linear_algebra.py"
     ],
     "language": "python",
     "metadata": {},
     "outputs": [],
     "prompt_number": 52
    },
    {
     "cell_type": "markdown",
     "metadata": {},
     "source": [
      "<p></br></p>\n",
      "<p></br></p>\n",
      "<p></br></p>"
     ]
    },
    {
     "cell_type": "markdown",
     "metadata": {},
     "source": [
      "## SciPy"
     ]
    },
    {
     "cell_type": "markdown",
     "metadata": {},
     "source": [
      "`NumPy` is complemented by `SciPy`; a library that adds more MATLAB-like functionality.\n",
      "\n",
      "`SciPy` is a collection of mathematical algorithms and convenience functions that provides high-level commands and classes for Nowdays, everything from parallel programming to web and data-base subroutines and classes have been made available to Python All of this power is also accessible through the the mathematical libraries in SciPy `NumPy` and `SciPy`.\n",
      "\n",
      "`SciPy` is used in:</br>\n",
      "Numerical Analysis, Optimization, Linear algebra, Image and signal processing, Statistical analysis, Data processing, Data transformation and query and many more..."
     ]
    },
    {
     "cell_type": "markdown",
     "metadata": {},
     "source": [
      "### Getting started"
     ]
    },
    {
     "cell_type": "markdown",
     "metadata": {},
     "source": [
      "As with NumPy, we can access all packages in SciPy:"
     ]
    },
    {
     "cell_type": "code",
     "collapsed": false,
     "input": [
      "from scipy import *"
     ],
     "language": "python",
     "metadata": {},
     "outputs": [],
     "prompt_number": 53
    },
    {
     "cell_type": "markdown",
     "metadata": {},
     "source": [
      "### Special functions\n",
      "\n",
      "SciPy provides implementations of a large set of special functions, usually used in mathematics, physics and engineering. \n",
      "Available functions include airy, elliptic, bessel, gamma, beta, hypergeometric, parabolic cylinder, mathieu, spheroidal wave, struve, and kelvin.\n",
      "\n",
      "For a list of functions see SciPy's documention at http://docs.scipy.org/doc/scipy/reference/special.html#module-scipy.special.\n",
      "or try"
     ]
    },
    {
     "cell_type": "code",
     "collapsed": false,
     "input": [
      "from scipy import special\n",
      "#help(special)"
     ],
     "language": "python",
     "metadata": {},
     "outputs": [],
     "prompt_number": 54
    },
    {
     "cell_type": "markdown",
     "metadata": {},
     "source": [
      "For example we can look at the Bessel functions.\n",
      "\n",
      "Bessel functions are a family of solutions to Bessel\u2019s differential equation with real or complex order alpha:\n",
      "\\begin{align}\n",
      "    x^2 \\frac{d^2 y}{d x^2} + x \\frac{d y}{d x} + (x^2 \u2212\\alpha^2)y = 0\n",
      "\\end{align}"
     ]
    },
    {
     "cell_type": "code",
     "collapsed": false,
     "input": [
      "from scipy.special import jn, jn_zeros\n",
      "\n",
      "x = 0.0\n",
      "\n",
      "n = 0    # order\n",
      "# Bessel function of first kind, zero order \n",
      "print \"J_%d(%f) = %f\" % (n, x, jn(n, x))\n",
      "\n",
      "n = 1    # order\n",
      "# Bessel function of first kind, first order \n",
      "print \"J_%d(%f) = %f\" % (n, x, jn(n, x))"
     ],
     "language": "python",
     "metadata": {},
     "outputs": [
      {
       "output_type": "stream",
       "stream": "stdout",
       "text": [
        "J_0(0.000000) = 1.000000\n",
        "J_1(0.000000) = 0.000000\n"
       ]
      }
     ],
     "prompt_number": 55
    },
    {
     "cell_type": "markdown",
     "metadata": {},
     "source": [
      "The next two lines allow plotting inside the ipython notebook. More during the next sessions..."
     ]
    },
    {
     "cell_type": "code",
     "collapsed": false,
     "input": [
      "# The next two\n",
      "%pylab inline --no-import-all\n",
      "import matplotlib.pyplot as plt"
     ],
     "language": "python",
     "metadata": {},
     "outputs": [
      {
       "output_type": "stream",
       "stream": "stdout",
       "text": [
        "Populating the interactive namespace from numpy and matplotlib\n"
       ]
      }
     ],
     "prompt_number": 56
    },
    {
     "cell_type": "markdown",
     "metadata": {},
     "source": [
      "We can now plot the Bessel functions of first kind for different values of order:"
     ]
    },
    {
     "cell_type": "code",
     "collapsed": false,
     "input": [
      "x = linspace(0, 12, 100)\n",
      "\n",
      "fig, ax = plt.subplots()\n",
      "ax.plot(x,zeros(len(x)),'--k')\n",
      "for n in range(4):\n",
      "    ax.plot(x, jn(n, x), label=r\"$J_%d(x)$\" % n)\n",
      "ax.legend();"
     ],
     "language": "python",
     "metadata": {},
     "outputs": [
      {
       "metadata": {},
       "output_type": "display_data",
       "png": "[encoded data removed]",
       "text": [
        "<matplotlib.figure.Figure at 0x106e73350>"
       ]
      }
     ],
     "prompt_number": 57
    },
    {
     "cell_type": "markdown",
     "metadata": {},
     "source": [
      "and check for their zeros..."
     ]
    },
    {
     "cell_type": "code",
     "collapsed": false,
     "input": [
      "# zeros of Bessel functions\n",
      "n = 0 # order\n",
      "m = 4 # number of roots to compute\n",
      "jn_zeros(n, m)"
     ],
     "language": "python",
     "metadata": {},
     "outputs": [
      {
       "metadata": {},
       "output_type": "pyout",
       "prompt_number": 58,
       "text": [
        "array([  2.40482556,   5.52007811,   8.65372791,  11.79153444])"
       ]
      }
     ],
     "prompt_number": 58
    },
    {
     "cell_type": "markdown",
     "metadata": {},
     "source": [
      "### Integration\n",
      "\n",
      "The numerical evaluation of the definite integral of a function is called numerical quadrature, or simply quadature. \n",
      "SciPy provides a series of functions for different kind of quadrature, for example the quad, dblquad and tplquad for single, double and triple integrals, respectively."
     ]
    },
    {
     "cell_type": "code",
     "collapsed": false,
     "input": [
      "from scipy.integrate import quad"
     ],
     "language": "python",
     "metadata": {},
     "outputs": [],
     "prompt_number": 59
    },
    {
     "cell_type": "code",
     "collapsed": false,
     "input": [
      "xl = 0  # the lower limit of x\n",
      "xu = 10 # the upper limit of x\n",
      "\n",
      "val, abserr = quad(lambda x: jn(0,x), xl, xu)\n",
      "\n",
      "print \"integral value =\", val, \", absolute error =\", abserr "
     ],
     "language": "python",
     "metadata": {},
     "outputs": [
      {
       "output_type": "stream",
       "stream": "stdout",
       "text": [
        "integral value = 1.06701130396 , absolute error = 7.43478946065e-14\n"
       ]
      }
     ],
     "prompt_number": 60
    },
    {
     "cell_type": "markdown",
     "metadata": {},
     "source": [
      "We can pass extra arguments to integrand function, by using the `args` keyword argument.\n",
      "For example we can use `args=(3,)` for the third order Bessel function."
     ]
    },
    {
     "cell_type": "markdown",
     "metadata": {},
     "source": [
      "---\n",
      "### Exercise 11\n",
      "\n",
      "Create a function that returns the Bessel function of first kinf for different orders and then find the integral."
     ]
    },
    {
     "cell_type": "code",
     "collapsed": false,
     "input": [
      "# type your solution here"
     ],
     "language": "python",
     "metadata": {},
     "outputs": [],
     "prompt_number": 61
    },
    {
     "cell_type": "markdown",
     "metadata": {},
     "source": [
      "##### Solution"
     ]
    },
    {
     "cell_type": "code",
     "collapsed": false,
     "input": [
      "#%load solutions/bessel_integral.py"
     ],
     "language": "python",
     "metadata": {},
     "outputs": [],
     "prompt_number": 62
    },
    {
     "cell_type": "markdown",
     "metadata": {},
     "source": [
      "### Interpolation"
     ]
    },
    {
     "cell_type": "markdown",
     "metadata": {},
     "source": [
      "The `interp1d` function accepts given arrays describing points X and Y data.\n",
      "It returns a function that can be evaluated everywhere in the domain for an arbitrary value of $x \\in X$ and the image it is corresponding interpolated value. Options for interpoland kinds are linear, quadratic and cubic spline interpolation."
     ]
    },
    {
     "cell_type": "code",
     "collapsed": false,
     "input": [
      "from scipy.interpolate import interp1d"
     ],
     "language": "python",
     "metadata": {},
     "outputs": [],
     "prompt_number": 63
    },
    {
     "cell_type": "code",
     "collapsed": false,
     "input": [
      "x = np.linspace(0, 20, 20)\n",
      "y = lambda x: jn(5,x) # sampled on given values x\n",
      "f1 = interp1d(x, y(x)) # linear interpolation\n",
      "f2 = interp1d(x, y(x), kind='quadratic')\n",
      "f3 = interp1d(x, y(x), kind='cubic')"
     ],
     "language": "python",
     "metadata": {},
     "outputs": [],
     "prompt_number": 64
    },
    {
     "cell_type": "code",
     "collapsed": false,
     "input": [
      "# new points where we want to evaluate the interpoland\n",
      "xnew = np.linspace(0, 20, 100)\n",
      "\n",
      "fig, ax = plt.subplots(figsize=(10,4))\n",
      "plt.plot(x,y(x),'o',xnew,f1(xnew),'-', xnew, f2(xnew),'--',xnew, f3(xnew),'--',xnew,y(xnew),'k')\n",
      "plt.legend(['data', 'linear', 'quadratic','cubic','true'], loc='best')\n",
      "plt.show()"
     ],
     "language": "python",
     "metadata": {},
     "outputs": [
      {
       "metadata": {},
       "output_type": "display_data",
       "png": "[encoded data removed]",
       "text": [
        "<matplotlib.figure.Figure at 0x10e942710>"
       ]
      }
     ],
     "prompt_number": 65
    },
    {
     "cell_type": "markdown",
     "metadata": {},
     "source": [
      "## Sparse matrices\n",
      "\n",
      "Sparse matrices are often useful in numerical analysis dealing with large systems.\n",
      "Whenever the problem involves vectors or matrices with mostly zero values then one should take advantage of the sparsity.\n",
      "SciPy has an extensive library for sparse matrices, with basic linear algebra operations (such as equation solving, eigenvalue calculations, etc)."
     ]
    },
    {
     "cell_type": "markdown",
     "metadata": {},
     "source": [
      "To create a sparse matrix we have to choose the format that will be stored in:"
     ]
    },
    {
     "cell_type": "code",
     "collapsed": false,
     "input": [
      "from scipy.sparse import *"
     ],
     "language": "python",
     "metadata": {},
     "outputs": [],
     "prompt_number": 66
    },
    {
     "cell_type": "code",
     "collapsed": false,
     "input": [
      "# dense matrix\n",
      "M = array([[10,0,0,0], [0,.3,0,0], [0,2,1.5,0], [-3,0,0,100]])\n",
      "print M"
     ],
     "language": "python",
     "metadata": {},
     "outputs": [
      {
       "output_type": "stream",
       "stream": "stdout",
       "text": [
        "[[  10.     0.     0.     0. ]\n",
        " [   0.     0.3    0.     0. ]\n",
        " [   0.     2.     1.5    0. ]\n",
        " [  -3.     0.     0.   100. ]]\n"
       ]
      }
     ],
     "prompt_number": 67
    },
    {
     "cell_type": "code",
     "collapsed": false,
     "input": [
      "# convert from dense to sparse\n",
      "M_sparse = csr_matrix(M); # or csc_matrix(M)\n",
      "print M_sparse "
     ],
     "language": "python",
     "metadata": {},
     "outputs": [
      {
       "output_type": "stream",
       "stream": "stdout",
       "text": [
        "  (0, 0)\t10.0\n",
        "  (1, 1)\t0.3\n",
        "  (2, 1)\t2.0\n",
        "  (2, 2)\t1.5\n",
        "  (3, 0)\t-3.0\n",
        "  (3, 3)\t100.0\n"
       ]
      }
     ],
     "prompt_number": 75
    },
    {
     "cell_type": "markdown",
     "metadata": {},
     "source": [
      "We can go back to the dense form:"
     ]
    },
    {
     "cell_type": "code",
     "collapsed": true,
     "input": [
      "print M_sparse\n",
      "print M_sparse.todense()"
     ],
     "language": "python",
     "metadata": {},
     "outputs": [
      {
       "output_type": "stream",
       "stream": "stdout",
       "text": [
        "  (0, 0)\t10.0\n",
        "  (1, 1)\t0.3\n",
        "  (2, 1)\t2.0\n",
        "  (2, 2)\t1.5\n",
        "  (3, 0)\t-3.0\n",
        "  (3, 3)\t100.0\n",
        "[[  10.     0.     0.     0. ]\n",
        " [   0.     0.3    0.     0. ]\n",
        " [   0.     2.     1.5    0. ]\n",
        " [  -3.     0.     0.   100. ]]\n"
       ]
      }
     ],
     "prompt_number": 69
    },
    {
     "cell_type": "markdown",
     "metadata": {},
     "source": [
      "The easiest way to create a sparse matrix is using the `lil_matrix` command. It creates an empty matrix and then we allogating non-zero entries by using matrix indexing. This way we avoid creating large dense matrices."
     ]
    },
    {
     "cell_type": "code",
     "collapsed": false,
     "input": [
      "A = lil_matrix((4,4)) # empty 4x4 sparse matrix using a linked list format\n",
      "A[0,0] = 1\n",
      "A[1,1] = 3\n",
      "A[2,2] = A[2,1] = 1\n",
      "A[3,3] = A[3,0] = 1\n",
      "A"
     ],
     "language": "python",
     "metadata": {},
     "outputs": [
      {
       "metadata": {},
       "output_type": "pyout",
       "prompt_number": 70,
       "text": [
        "<4x4 sparse matrix of type '<type 'numpy.float64'>'\n",
        "\twith 6 stored elements in LInked List format>"
       ]
      }
     ],
     "prompt_number": 70
    },
    {
     "cell_type": "markdown",
     "metadata": {},
     "source": [
      "We can also change the format based on the sparsity:"
     ]
    },
    {
     "cell_type": "code",
     "collapsed": false,
     "input": [
      "A = csr_matrix(A); A # if the rows are sparse"
     ],
     "language": "python",
     "metadata": {},
     "outputs": [
      {
       "metadata": {},
       "output_type": "pyout",
       "prompt_number": 71,
       "text": [
        "<4x4 sparse matrix of type '<type 'numpy.float64'>'\n",
        "\twith 6 stored elements in Compressed Sparse Row format>"
       ]
      }
     ],
     "prompt_number": 71
    },
    {
     "cell_type": "code",
     "collapsed": false,
     "input": [
      "A = csc_matrix(A); A # if the columns are sparse"
     ],
     "language": "python",
     "metadata": {},
     "outputs": [
      {
       "metadata": {},
       "output_type": "pyout",
       "prompt_number": 72,
       "text": [
        "<4x4 sparse matrix of type '<type 'numpy.float64'>'\n",
        "\twith 6 stored elements in Compressed Sparse Column format>"
       ]
      }
     ],
     "prompt_number": 72
    },
    {
     "cell_type": "markdown",
     "metadata": {},
     "source": [
      "---\n",
      "### Exercise 12\n",
      "\n",
      "Construct a $10000 \\times 10000$ `lil_matrix` $A$ and add values to it by setting all rows and columns $2000$ to $3000$ into random values. Also set random diagonal entries (you can do this without a loop!). Then use the `spy` function from `matplotlib.pyplot` to \"spy\" the matrix.\n",
      "\n",
      "Using a vector $b$ with $10000$ random values solve the system $A x = b$. \n",
      "To do so use the direcet solver `linsolve` from `scipy.sparse.linalg.dsolve`.\n",
      "Change to different sparse formats (CSR and CSC) and measure the time needed to solve the system. You can use the `time` package."
     ]
    },
    {
     "cell_type": "code",
     "collapsed": false,
     "input": [
      "# type your solution here"
     ],
     "language": "python",
     "metadata": {},
     "outputs": [],
     "prompt_number": 73
    },
    {
     "cell_type": "markdown",
     "metadata": {},
     "source": [
      "##### Solution"
     ]
    },
    {
     "cell_type": "code",
     "collapsed": false,
     "input": [
      "#%load solutions/sparse_matrices.py"
     ],
     "language": "python",
     "metadata": {},
     "outputs": [],
     "prompt_number": 74
    },
    {
     "cell_type": "markdown",
     "metadata": {},
     "source": [
      "## References:\n",
      "\n",
      "#### NumPy:\n",
      "\n",
      "- [NumPy tutorial](http://www.scipy.org/Tentative_NumPy_Tutorial) \n",
      "- [NumPy tutorial video](http://showmedo.com/videotutorials/series?name=i9KuJuNcG) \n",
      "- [NumPy: lock 'n load](http://mentat.za.net/numpy/intro/intro.html)\n",
      "- [NumPy for Matlab users](http://www.scipy.org/NumPy_for_Matlab_Users)\n",
      "\n",
      "\n",
      "#### SciPy\n",
      "- [SciPy getting started](http://www.scipy.org/getting-started.html)\n",
      "- [SciPy tutorial](https://docs.scipy.org/doc/scipy-0.14.0/reference/tutorial/index.html)\n",
      "\n",
      "#### More general\n",
      "\n",
      "- [General Python tutorial](http://docs.python.org/tutorial/)\n",
      "- [Dive Into Python](http://diveintopython.org/)\n",
      "- [Hans Petter Langtangen book](http://link.springer.com/book/10.1007/978-3-642-02475-7/page/1)"
     ]
    },
    {
     "cell_type": "markdown",
     "metadata": {},
     "source": [
      "### Other packages\n",
      "Besides NumPy and Scipy, there are many other useful Python packages for scientific computing. Here is a short list:  \n",
      "\n",
      "- [matplotlib](http://www.matplotlib.org/) - plotting and visualization\n",
      "- [sympy](http://sympy.org/) - symbolic computation\n",
      "- [mpi4py](http://mpi4py.scipy.org/) - parallel computing\n",
      "- [petsc4py](http://code.google.com/p/petsc4py/), [pytrilinos](http://trilinos.sandia.gov/packages/pytrilinos/) - Python bindings for the \"big 2\" parallel scientific libraries\n",
      "- [pyCUDA](http://mathema.tician.de/software/pycuda), [pyOpenCL](http://mathema.tician.de/software/pyopencl) - GPGPU computing\n",
      "- [FENiCS](http://fenicsproject.org/), [FiPy](http://www.ctcms.nist.gov/fipy/), [PyClaw](http://numerics.kaust.edu.sa/pyclaw/) - solve complicated PDEs with very sophisticated numerical methods\n",
      "- [networkX](http://networkx.github.com/), [pygraphviz](http://networkx.lanl.gov/pygraphviz/) - graphs"
     ]
    },
    {
     "cell_type": "markdown",
     "metadata": {},
     "source": [
      " "
     ]
    },
    {
     "cell_type": "markdown",
     "metadata": {},
     "source": [
      " "
     ]
    },
    {
     "cell_type": "markdown",
     "metadata": {},
     "source": [
      "*Copyright 2015, Maruan Al-Shedivat, Yiannis Hadjimichael, ACM Student Chapter.*"
     ]
    }
   ],
   "metadata": {}
  }
 ]
}